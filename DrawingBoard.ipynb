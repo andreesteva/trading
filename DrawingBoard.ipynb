{
 "cells": [
  {
   "cell_type": "code",
   "execution_count": 1,
   "metadata": {
    "collapsed": true
   },
   "outputs": [],
   "source": [
    "import sys\n",
    "# sys.path.append(\"quantiacs/pythonToolbox\")\n",
    "import quantiacsToolbox as tb"
   ]
  },
  {
   "cell_type": "code",
   "execution_count": 2,
   "metadata": {
    "collapsed": false
   },
   "outputs": [
    {
     "name": "stdout",
     "output_type": "stream",
     "text": [
      "/Users/AndreEsteva/GoogleDrive/software_projects/trading_system\r\n"
     ]
    }
   ],
   "source": [
    "!pwd"
   ]
  },
  {
   "cell_type": "code",
   "execution_count": null,
   "metadata": {
    "collapsed": false
   },
   "outputs": [
    {
     "name": "stdout",
     "output_type": "stream",
     "text": [
      "Downloading CASH\n",
      "Downloading F_AD\n",
      "Downloading F_BO\n",
      "Downloading F_BP\n",
      "Downloading F_C\n",
      "Downloading F_CC\n",
      "Downloading F_CD\n",
      "Downloading F_CL\n",
      "Downloading F_CT\n",
      "Downloading F_DX\n",
      "Downloading F_EC\n",
      "Downloading F_ED\n",
      "Downloading F_ES\n",
      "Downloading F_FC\n",
      "Downloading F_FV\n",
      "Downloading F_GC\n",
      "Downloading F_HG\n",
      "Downloading F_HO\n",
      "Downloading F_JY\n",
      "Downloading F_KC\n",
      "Downloading F_LB\n",
      "Downloading F_LC\n",
      "Downloading F_LN\n",
      "Downloading F_MD\n",
      "Downloading F_MP\n",
      "Downloading F_NG\n",
      "Downloading F_NQ\n",
      "Downloading F_NR\n",
      "Downloading F_O\n",
      "Downloading F_OJ\n",
      "Downloading F_PA\n",
      "Downloading F_PL\n",
      "Downloading F_RB\n",
      "Downloading F_RU\n",
      "Downloading F_S\n",
      "Downloading F_SB\n",
      "Downloading F_SF\n",
      "Downloading F_SI\n",
      "Downloading F_SM\n",
      "Downloading F_TU\n",
      "Downloading F_TY\n",
      "Downloading F_US\n",
      "Downloading F_W\n",
      "Downloading F_XX\n",
      "Downloading F_YM\n",
      "Loading Data...\n",
      "\bDone! \n"
     ]
    }
   ],
   "source": [
    "tb.runts(\"examples/meanReversion.py\")"
   ]
  },
  {
   "cell_type": "code",
   "execution_count": null,
   "metadata": {
    "collapsed": true
   },
   "outputs": [],
   "source": []
  }
 ],
 "metadata": {
  "kernelspec": {
   "display_name": "Python 2",
   "language": "python",
   "name": "python2"
  },
  "language_info": {
   "codemirror_mode": {
    "name": "ipython",
    "version": 2
   },
   "file_extension": ".py",
   "mimetype": "text/x-python",
   "name": "python",
   "nbconvert_exporter": "python",
   "pygments_lexer": "ipython2",
   "version": "2.7.10"
  }
 },
 "nbformat": 4,
 "nbformat_minor": 0
}
